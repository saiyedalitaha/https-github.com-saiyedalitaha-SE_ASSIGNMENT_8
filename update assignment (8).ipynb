{
 "cells": [
  {
   "cell_type": "code",
   "execution_count": 10,
   "id": "e0c13775",
   "metadata": {},
   "outputs": [],
   "source": [
    "# 1). What is File function in python? What is keywords to create and write file.\n",
    "\n",
    "# The file function is python file object provides methods and attributes to access and manipulate files.\n",
    "# Using file objects, we can read or write any files. Whenever we open a file to perform any operations on it, \n",
    "# Python returns a file object.\n",
    "\n",
    "f = open('demofile3.txt','w')\n",
    "f.write('Paragraphs are the building blocks of papers.!')\n",
    "f.close()\n",
    "\n",
    "\n"
   ]
  },
  {
   "cell_type": "code",
   "execution_count": 17,
   "id": "db1c8316",
   "metadata": {},
   "outputs": [
    {
     "name": "stdout",
     "output_type": "stream",
     "text": [
      "Paragraphs are the building blocks of papers.!\n",
      "So, letâ€™s suppose that you have done some brainstorming to develop your thesis. What else should you keep in mind as you begin to create paragraphs? Every paragraph in a paper should be:\n",
      "Unified: All of the sentences in a single paragraph should be related to a single controlling idea (often expressed in the topic sentence of the paragraph).\n",
      "Clearly related to the thesis: The sentences should all refer to the central idea, or thesis, of the paper (Rosen and Behrens 119).\n",
      "Coherent: The sentences should be arranged in a logical manner and should follow a definite plan for development (Rosen and Behrens 119).\n",
      "Well-developed: Every idea discussed in the paragraph should be adequately explained and supported through evidence and details that work together to explain the paragraphâ€™s controlling idea (Rosen and Behrens 119).\n",
      "How do I organize a paragraph?\n"
     ]
    }
   ],
   "source": [
    "# 2). Write a Python program to read an entire text file.\n",
    "\n",
    "def file_read(fname):\n",
    "        txt = open(fname)\n",
    "        print(txt.read())\n",
    "        \n",
    "file_read ('word.txt')\n"
   ]
  },
  {
   "cell_type": "code",
   "execution_count": 19,
   "id": "7ecf8af6",
   "metadata": {},
   "outputs": [
    {
     "name": "stdout",
     "output_type": "stream",
     "text": [
      "frankenstein.mail.umich.edu\n",
      "paploo.uhi.ac.uk\n"
     ]
    }
   ],
   "source": [
    "# 3). Write a Python program to append text to a file and display the text.\n",
    "\n",
    "def file_read(fname):\n",
    "        from itertools import islice\n",
    "        with open(fname, \"w\") as myfile:\n",
    "            myfile.write('frankenstein.mail.umich.edu\\n')\n",
    "            myfile.write('paploo.uhi.ac.uk')\n",
    "            txt = open(fname)\n",
    "        print(txt.read())\n",
    "file_read('word.txt')\n",
    "            "
   ]
  },
  {
   "cell_type": "code",
   "execution_count": 1,
   "id": "0a76a368",
   "metadata": {},
   "outputs": [
    {
     "name": "stdout",
     "output_type": "stream",
     "text": [
      "Paragraphs are the building blocks of papers.!\n",
      "\n"
     ]
    }
   ],
   "source": [
    "# 4). Write a Python program to read first n lines of a file.\n",
    "\n",
    "def file_read_from_head(fname, nlines):\n",
    "        from itertools import islice\n",
    "        with open(fname) as f:\n",
    "                for line in islice(f, nlines):\n",
    "                        print(line)\n",
    "file_read_from_head('demofile3.txt',1)"
   ]
  },
  {
   "cell_type": "code",
   "execution_count": 2,
   "id": "d0f47f6a",
   "metadata": {},
   "outputs": [
    {
     "name": "stdout",
     "output_type": "stream",
     "text": [
      "enter the n line 3\n",
      "Coherent: The sentences should be arranged in a logical manner and should follow a definite plan for development (Rosen and Behrens 119).\n",
      "Well-developed: Every idea discussed in the paragraph should be adequately explained and supported through evidence and details that work together to explain the paragraphâ€™s controlling idea (Rosen and Behrens 119).\n",
      "How do I organize a paragraph?"
     ]
    }
   ],
   "source": [
    "# 5). Write a Python program to read last n lines of a file.\n",
    "\n",
    "name = int(input(\"enter the n line \"))\n",
    "f = open ('demofile3.txt','r')\n",
    "for line in (f.readlines()[-name:]):\n",
    "    print(line,end='')\n",
    "f.close()\n",
    "\n",
    "    \n",
    "\n",
    "    "
   ]
  },
  {
   "cell_type": "code",
   "execution_count": 6,
   "id": "1a09898f",
   "metadata": {},
   "outputs": [
    {
     "name": "stdout",
     "output_type": "stream",
     "text": [
      "['Paragraphs are the building blocks of papers.!\\n', 'So, letâ€™s suppose that you have done some brainstorming to develop your thesis. What else should you keep in mind as you begin to create paragraphs? Every paragraph in a paper should be:\\n', 'Unified: All of the sentences in a single paragraph should be related to a single controlling idea (often expressed in the topic sentence of the paragraph).\\n', 'Clearly related to the thesis: The sentences should all refer to the central idea, or thesis, of the paper (Rosen and Behrens 119).\\n', 'Coherent: The sentences should be arranged in a logical manner and should follow a definite plan for development (Rosen and Behrens 119).\\n', 'Well-developed: Every idea discussed in the paragraph should be adequately explained and supported through evidence and details that work together to explain the paragraphâ€™s controlling idea (Rosen and Behrens 119).\\n', 'How do I organize a paragraph?']\n"
     ]
    }
   ],
   "source": [
    "# 6). Write a Python program to read a file line by line and store it into a list.\n",
    "# Open the file in read mode\n",
    "with open('demofile3.txt', 'r') as file:\n",
    "    \n",
    "    lines = file.readlines()  # Read all the lines of the file into a list\n",
    "\n",
    "\n",
    "print(lines)  # Print the list of lines\n",
    "\n",
    "\n",
    "\n",
    "\n",
    "          \n"
   ]
  },
  {
   "cell_type": "code",
   "execution_count": 31,
   "id": "92737853",
   "metadata": {},
   "outputs": [
    {
     "name": "stdout",
     "output_type": "stream",
     "text": [
      "['Paragraphs are the building blocks of papers.!\\n', 'So, letâ€™s suppose that you have done some brainstorming to develop your thesis. What else should you keep in mind as you begin to create paragraphs? Every paragraph in a paper should be:\\n', 'Unified: All of the sentences in a single paragraph should be related to a single controlling idea (often expressed in the topic sentence of the paragraph).\\n', 'Clearly related to the thesis: The sentences should all refer to the central idea, or thesis, of the paper (Rosen and Behrens 119).\\n', 'Coherent: The sentences should be arranged in a logical manner and should follow a definite plan for development (Rosen and Behrens 119).\\n', 'Well-developed: Every idea discussed in the paragraph should be adequately explained and supported through evidence and details that work together to explain the paragraphâ€™s controlling idea (Rosen and Behrens 119).\\n', 'How do I organize a paragraph?']\n"
     ]
    }
   ],
   "source": [
    "# 7). Write a Python program to read a file line by line store it into a variable.\n",
    "\n",
    "def file_read(fname):\n",
    "        with open (fname, \"r\") as myfile:\n",
    "                data=myfile.readlines()\n",
    "                print(data)\n",
    "file_read('demofile3.txt')\n"
   ]
  },
  {
   "cell_type": "code",
   "execution_count": 5,
   "id": "762e06a0",
   "metadata": {},
   "outputs": [
    {
     "name": "stdout",
     "output_type": "stream",
     "text": [
      "['Well-developed:']\n"
     ]
    }
   ],
   "source": [
    "# 8). Write a python program to find the longest words.\n",
    "\n",
    "def longest_word(filename):\n",
    "    with open(filename, 'r') as infile:\n",
    "              words = infile.read().split()\n",
    "    max_len = len(max(words, key=len))\n",
    "    return [word for word in words if len(word) == max_len]\n",
    "\n",
    "print(longest_word('demofile3.txt'))\n"
   ]
  },
  {
   "cell_type": "code",
   "execution_count": 6,
   "id": "883b6607",
   "metadata": {},
   "outputs": [
    {
     "name": "stdout",
     "output_type": "stream",
     "text": [
      "Number of lines in the file:  7\n"
     ]
    }
   ],
   "source": [
    "# 9). Write a Python program to count the number of lines in a text file.\n",
    "\n",
    "def file_lengthy(fname):\n",
    "        with open(fname) as f:\n",
    "                for i, l in enumerate(f):\n",
    "                        pass\n",
    "        return i + 1\n",
    "print(\"Number of lines in the file: \",file_lengthy(\"demofile3.txt\"))\n"
   ]
  },
  {
   "cell_type": "code",
   "execution_count": 7,
   "id": "77b1a073",
   "metadata": {},
   "outputs": [
    {
     "name": "stdout",
     "output_type": "stream",
     "text": [
      "Number of words in the file : Counter({'the': 9, 'should': 7, 'to': 6, 'in': 6, 'a': 6, 'and': 6, 'of': 4, 'you': 3, 'paragraph': 3, 'sentences': 3, 'be': 3, 'idea': 3, '(Rosen': 3, 'Behrens': 3, '119).': 3, 'that': 2, 'Every': 2, 'paper': 2, 'single': 2, 'related': 2, 'controlling': 2, 'The': 2, 'Paragraphs': 1, 'are': 1, 'building': 1, 'blocks': 1, 'papers.!': 1, 'So,': 1, 'letâ€™s': 1, 'suppose': 1, 'have': 1, 'done': 1, 'some': 1, 'brainstorming': 1, 'develop': 1, 'your': 1, 'thesis.': 1, 'What': 1, 'else': 1, 'keep': 1, 'mind': 1, 'as': 1, 'begin': 1, 'create': 1, 'paragraphs?': 1, 'be:': 1, 'Unified:': 1, 'All': 1, '(often': 1, 'expressed': 1, 'topic': 1, 'sentence': 1, 'paragraph).': 1, 'Clearly': 1, 'thesis:': 1, 'all': 1, 'refer': 1, 'central': 1, 'idea,': 1, 'or': 1, 'thesis,': 1, 'Coherent:': 1, 'arranged': 1, 'logical': 1, 'manner': 1, 'follow': 1, 'definite': 1, 'plan': 1, 'for': 1, 'development': 1, 'Well-developed:': 1, 'discussed': 1, 'adequately': 1, 'explained': 1, 'supported': 1, 'through': 1, 'evidence': 1, 'details': 1, 'work': 1, 'together': 1, 'explain': 1, 'paragraphâ€™s': 1, 'How': 1, 'do': 1, 'I': 1, 'organize': 1, 'paragraph?': 1})\n"
     ]
    }
   ],
   "source": [
    "# 10). Write a Python program to count the frequency of words in a file.\n",
    "\n",
    "from collections import Counter\n",
    "def word_count(fname):\n",
    "        with open(fname) as f:\n",
    "                return Counter(f.read().split())\n",
    "\n",
    "print(\"Number of words in the file :\",word_count(\"demofile3.txt\"))\n"
   ]
  },
  {
   "cell_type": "code",
   "execution_count": 8,
   "id": "710c8525",
   "metadata": {},
   "outputs": [
    {
     "name": "stdout",
     "output_type": "stream",
     "text": [
      "Paragraphs are the building blocks of papers.!\n",
      "So, letâ€™s suppose that you have done some brainstorming to develop your thesis. What else should you keep in mind as you begin to create paragraphs? Every paragraph in a paper should be:\n",
      "Unified: All of the sentences in a single paragraph should be related to a single controlling idea (often expressed in the topic sentence of the paragraph).\n",
      "Clearly related to the thesis: The sentences should all refer to the central idea, or thesis, of the paper (Rosen and Behrens 119).\n",
      "Coherent: The sentences should be arranged in a logical manner and should follow a definite plan for development (Rosen and Behrens 119).\n",
      "Well-developed: Every idea discussed in the paragraph should be adequately explained and supported through evidence and details that work together to explain the paragraphâ€™s controlling idea (Rosen and Behrens 119).\n",
      "How do I organize a paragraph?\n"
     ]
    }
   ],
   "source": [
    "# 11). Write a Python program to write a list to a file.\n",
    "\n",
    "color = ['Red', 'Green', 'White', 'Black', 'Pink', 'Yellow']\n",
    "with open('abc.txt', \"w\") as myfile:\n",
    "        for c in color:\n",
    "                myfile.write(\"%s\\n\" % c)\n",
    "\n",
    "content = open('demofile3.txt')\n",
    "print(content.read())\n"
   ]
  },
  {
   "cell_type": "code",
   "execution_count": 11,
   "id": "e573bf9c",
   "metadata": {},
   "outputs": [
    {
     "name": "stdout",
     "output_type": "stream",
     "text": [
      "Enter the Name of Source File: \n",
      "demofile3.txt\n",
      "Enter the Name of Target File: \n",
      "word.txt\n",
      "\n",
      "File Copied Successfully!\n"
     ]
    }
   ],
   "source": [
    "# 12). Write a Python program to copy the contents of a file to another file.\n",
    "\n",
    "print(\"Enter the Name of Source File: \")\n",
    "sFile = input()\n",
    "print(\"Enter the Name of Target File: \")\n",
    "tFile = input()\n",
    "\n",
    "fileHandle = open(sFile, \"r\")\n",
    "texts = fileHandle.readlines()\n",
    "fileHandle.close()\n",
    "\n",
    "fileHandle = open(tFile, \"w\")\n",
    "for s in texts:\n",
    "    fileHandle.write(s)\n",
    "fileHandle.close()\n",
    "\n",
    "print(\"\\nFile Copied Successfully!\")\n",
    "\n",
    "\n",
    "\n"
   ]
  },
  {
   "cell_type": "code",
   "execution_count": null,
   "id": "95072675",
   "metadata": {},
   "outputs": [],
   "source": [
    "# 13). Explain Exception handling? What is an Error in Python?\n",
    "\n",
    "# Exception handling is a programming concept that allows you to gracefully manage and respond to unexpected or exceptional situations that might occur during the execution of your code. \n",
    "#These exceptional situations are often referred to as \"exceptions\" or \"errors.\n",
    "# Exception handling ensures that even if an error occurs, your program doesn't crash abruptly but instead can take controlled \n",
    "# actions to recover or provide appropriate feedback to the user.\n",
    "\n",
    "\n",
    "# In Python, exceptions are objects that represent errors or exceptional events that can disrupt the normal flow of program execution. \n",
    "# Python provides a mechanism for handling these exceptions using the try, except, else, finally, and raise statements.\n",
    "\n",
    "# Here's a breakdown of these components:\n",
    "\n",
    "# 1). try: You enclose the code that might raise an exception within a try block. \n",
    "# If an exception occurs within this block, Python immediately jumps to the corresponding except block.\n",
    "\n",
    "# 2). except: This block is used to handle exceptions. You can specify which type of exception you want to catch, or you can use a general Exception catch-all. \n",
    "# When an exception of the specified type occurs, the code within this block is executed.\n",
    "\n",
    "# 3). else: The code within the else block is executed if no exceptions were raised in the try block. \n",
    "# It's often used for code that should only run when the try block completes successfully.\n",
    "\n",
    "# 4). inally: The code within the finally block is executed regardless of whether an exception occurred or not. \n",
    "# It's often used for cleanup tasks like closing files or releasing resources.\n",
    "\n",
    "# 5). raise: You can use the raise statement to explicitly raise an exception in your code. \n",
    "# This is useful when you want to create custom exceptions or when you want to signal an error in a specific situation.\n",
    "\n",
    "\n",
    "\n",
    "\n",
    "\n",
    "\n",
    "\n",
    "\n"
   ]
  },
  {
   "cell_type": "code",
   "execution_count": null,
   "id": "cd7ec311",
   "metadata": {},
   "outputs": [],
   "source": [
    "# 14). How many except statements can a try-except block have? Name Some\n",
    "# built-in exception classes:\n",
    "\n",
    "# A try-except block in Python can have multiple except statements to handle different types of exceptions. Each except block can handle a specific exception type or category. \n",
    "# Here are some examples of built-in exception classes in Python:\n",
    "\n",
    "# 1). ZeroDivisionError: Raised when division or modulo by zero is attempted.\n",
    "# 2). ValueError: Raised when a function receives an argument of the correct type but an inappropriate value.\n",
    "# 3). TypeError: Raised when an operation or function is applied to an object of inappropriate type.\n",
    "# 4). IndexError: Raised when a sequence subscript is out of range.\n",
    "# 5). KeyError: Raised when a dictionary key is not found.\n",
    "# 6). FileNotFoundError: Raised when an attempt to open a file fails because the file cannot be found.\n",
    "# 7). IOError: Raised when an input/output operation (such as reading or writing to a file) fails.\n",
    "# 8). NameError: Raised when a local or global name is not found.\n",
    "# 9).AssertionError: Raised when an assert statement fails.\n",
    "# 10).RuntimeError: Raised when a generic runtime error occurs.\n",
    "\n"
   ]
  },
  {
   "cell_type": "code",
   "execution_count": null,
   "id": "21a6f38f",
   "metadata": {},
   "outputs": [],
   "source": [
    "# 15). When will the else part of try-except-else be executed?\n",
    "# try-except-else block in Python, the else part is executed only if no exceptions occur within the try block. \n",
    "# This means that if the code in the try block executes successfully without raising any exceptions, the code in the else block will be executed.\n",
    "\n",
    " try:\n",
    "    # Code that might raise an exception\n",
    "except SomeExceptionType:\n",
    "    # Code to handle the specific exception\n",
    "else:\n",
    "    # Code to be executed if no exceptions occurred in the try block\n"
   ]
  },
  {
   "cell_type": "code",
   "execution_count": null,
   "id": "11fa601a",
   "metadata": {},
   "outputs": [],
   "source": [
    "# 16). Can one block of except statements handle multiple exception?\n",
    "# Yes, a single block of except statements in Python can handle multiple exceptions. \n",
    "# This feature allows you to handle different types of exceptions using a single block of code.\n",
    "\n",
    "try:\n",
    "\n",
    "    x = 10 / 0   # Code that may raise exceptions\n",
    "\n",
    "    y = int(\"abc\")\n",
    "\n",
    "except (ZeroDivisionError, ValueError) as e:\n",
    "\n",
    "   # Exception handling code\n",
    "\n",
    "   print(\"An error occurred:\", str(e))\n",
    "    \n",
    "    \n",
    "# In the above code, we have a try block that contains code that might raise exceptions. \n",
    "# In this case, we attempt to perform a division by zero (10 / 0) and convert a string to an integer (int(\"abc\")), both of which can raise exceptions.\n",
    "# By using a single block of except statements with multiple exception types, you can handle different types of exceptions in a consolidated manner, \n",
    "# reducing code duplication and improving code readability.\n"
   ]
  },
  {
   "cell_type": "code",
   "execution_count": null,
   "id": "67592ee9",
   "metadata": {},
   "outputs": [],
   "source": [
    "# 17). When is the finally block executed?\n",
    "# In Python, the finally block is executed regardless of whether an exception occurs or not within the try block. \n",
    "#It's used to define cleanup code that should run no matter what, ensuring that resources are properly released or other essential actions are taken.\n",
    "\n",
    "try:\n",
    "    # Code that might raise an exception\n",
    "except SomeExceptionType:\n",
    "    # Code to handle the specific exception\n",
    "finally:\n",
    "    # Code that will be executed no matter what\n",
    "\n"
   ]
  },
  {
   "cell_type": "code",
   "execution_count": null,
   "id": "ab7220ce",
   "metadata": {},
   "outputs": [],
   "source": [
    "# 18). What happens when „1‟== 1 is executed?\n",
    "# When the expression \"1\" == 1 is executed in Python, it involves a comparison between a string and an integer. \n",
    "# Let's break down what happens step by step:\n",
    "\n",
    "# \"1\" is a string literal containing the character \"1\".\n",
    "#  1 is an integer literal with the numerical value 1.\n",
    "\n",
    "# he == operator is used for equality comparison. However, in Python, comparing values of different types (like a string and an integer) \n",
    "# using the == operator generally results in False because the types are different.\n",
    "\n",
    "result = \"1\" == 1\n",
    "print(result)  # This will print False\n"
   ]
  },
  {
   "cell_type": "code",
   "execution_count": 1,
   "id": "8a577307",
   "metadata": {},
   "outputs": [
    {
     "name": "stdout",
     "output_type": "stream",
     "text": [
      "Enter a number: 12\n",
      "Result: 0.8333333333333334\n",
      "Execution completed.\n"
     ]
    }
   ],
   "source": [
    "# 19). How Do You Handle Exceptions With Try/Except/Finally In Python? Explain with coding snippets.\n",
    "\n",
    "# Handling exceptions using try, except, and finally blocks in Python is a fundamental way to manage unexpected errors in your code. \n",
    "# Below are some coding snippets demonstrating how to use these blocks to handle exceptions.\n",
    "\n",
    "# 1). Basic Exception Handling:\n",
    "\n",
    "try:\n",
    "    num = int(input(\"Enter a number: \"))\n",
    "    result = 10 / num\n",
    "except ZeroDivisionError:\n",
    "    print(\"Cannot divide by zero.\")\n",
    "except ValueError:\n",
    "    print(\"Invalid input. Please enter a valid number.\")\n",
    "else:\n",
    "    print(\"Result:\", result)\n",
    "finally:\n",
    "    print(\"Execution completed.\")\n",
    "\n"
   ]
  },
  {
   "cell_type": "code",
   "execution_count": 2,
   "id": "9f2e641f",
   "metadata": {},
   "outputs": [
    {
     "name": "stdout",
     "output_type": "stream",
     "text": [
      "Enter a number: 23\n",
      "Result: 0.43478260869565216\n",
      "Execution completed.\n"
     ]
    }
   ],
   "source": [
    "# 2). Handling Multiple Exception Types:\n",
    "\n",
    "try:\n",
    "    num = int(input(\"Enter a number: \"))\n",
    "    result = 10 / num\n",
    "except (ZeroDivisionError, ValueError):\n",
    "    print(\"Invalid input or division by zero.\")\n",
    "else:\n",
    "    print(\"Result:\", result)\n",
    "finally:\n",
    "    print(\"Execution completed.\")\n"
   ]
  },
  {
   "cell_type": "code",
   "execution_count": 3,
   "id": "e12db1c4",
   "metadata": {},
   "outputs": [
    {
     "name": "stdout",
     "output_type": "stream",
     "text": [
      "Enter a positive number: 34\n",
      "You entered: 34\n",
      "Execution completed.\n"
     ]
    }
   ],
   "source": [
    "# 3). Using Custom Exceptions:\n",
    "\n",
    "class CustomError(Exception):\n",
    "    pass\n",
    "\n",
    "try:\n",
    "    x = int(input(\"Enter a positive number: \"))\n",
    "    if x <= 0:\n",
    "        raise CustomError(\"Number must be positive.\")\n",
    "except CustomError as ce:\n",
    "    print(\"Custom error:\", ce)\n",
    "except ValueError:\n",
    "    print(\"Invalid input. Please enter a valid number.\")\n",
    "else:\n",
    "    print(\"You entered:\", x)\n",
    "finally:\n",
    "    print(\"Execution completed.\")\n"
   ]
  },
  {
   "cell_type": "code",
   "execution_count": 4,
   "id": "c8e62e33",
   "metadata": {},
   "outputs": [
    {
     "name": "stdout",
     "output_type": "stream",
     "text": [
      "File not found.\n",
      "File handling completed.\n"
     ]
    }
   ],
   "source": [
    "# 4). finally:\n",
    "\n",
    "file = None\n",
    "try:\n",
    "    file = open(\"example.txt\", \"r\")\n",
    "    content = file.read()\n",
    "    print(\"File content:\", content)\n",
    "except FileNotFoundError:\n",
    "    print(\"File not found.\")\n",
    "else:\n",
    "    print(\"File read successfully.\")\n",
    "finally:\n",
    "    if file:\n",
    "        file.close()\n",
    "    print(\"File handling completed.\")\n"
   ]
  },
  {
   "cell_type": "code",
   "execution_count": 6,
   "id": "d7069225",
   "metadata": {},
   "outputs": [
    {
     "name": "stdout",
     "output_type": "stream",
     "text": [
      "Enter an odd number: 24\n",
      "EvenNumberError: 24 is an even number.\n",
      "Enter an odd number: 23\n",
      "You entered an odd number: 23\n"
     ]
    }
   ],
   "source": [
    "# 20). Write python program that user to enter only odd numbers, else will raise an exception.\n",
    "\n",
    "\n",
    "class EvenNumberError(Exception):\n",
    "    def __init__(self, number):\n",
    "        self.number = number\n",
    "        super().__init__(f\"EvenNumberError: {number} is an even number.\")\n",
    "\n",
    "\n",
    "def get_odd_number():\n",
    "    while True:\n",
    "        try:\n",
    "            num = int(input(\"Enter an odd number: \"))\n",
    "            if num % 2 == 0:\n",
    "                raise EvenNumberError(num)\n",
    "            return num\n",
    "        except ValueError:\n",
    "            print(\"Invalid input. Please enter a valid number.\")\n",
    "        except EvenNumberError as ene:\n",
    "            print(ene)\n",
    "\n",
    "\n",
    "if __name__ == \"__main__\":\n",
    "    odd_number = get_odd_number()\n",
    "    print(\"You entered an odd number:\", odd_number)\n",
    "\n"
   ]
  },
  {
   "cell_type": "code",
   "execution_count": 8,
   "id": "b95358c0",
   "metadata": {},
   "outputs": [],
   "source": [
    "# 21). What are oops concepts? Is multiple inheritance supported in java.\n",
    "# OOP is object oriented programming language. Object is instances of class.\n",
    "# OOP revolves around the following key concepts:\n",
    "\n",
    "# 1). Classes and Objects: Classes are blueprints or templates for creating objects. \n",
    "# Objects are instances of classes and represent real-world entities with data and behavior.\n",
    "\n",
    "# 2). Encapsulation: Encapsulation refers to bundling data (attributes or properties) and methods (functions) that operate on the data within a single unit called a class. \n",
    "# It restricts direct access to internal details and enforces access through methods.\n",
    "\n",
    "# 3). Inheritance: Inheritance allows a class to inherit properties and behavior from another class, creating a parent-child relationship. \n",
    "# It promotes code reuse and the creation of hierarchical class structures.\n",
    "\n",
    "# 4). Polymorphism: Polymorphism enables objects of different classes to be treated as objects of a common superclass. \n",
    "# It allows methods to be overridden in subclasses, providing a way to achieve different behavior based on the specific object's type.\n",
    "\n",
    "# 5). Abstraction: Abstraction involves simplifying complex reality by modeling classes based on the essential properties and behaviors relevant to the application.\n",
    "# It hides unnecessary details and emphasizes the essential ones.\n",
    "\n",
    "interface A {\n",
    "    void methodA();\n",
    "}\n",
    "\n",
    "interface B {\n",
    "    void methodB();\n",
    "}\n",
    "\n",
    "class MyClass implements A, B {\n",
    "    public void methodA() {\n",
    "        System.out.println(\"Method A\");\n",
    "    }\n",
    "    \n",
    "    public void methodB() {\n",
    "        System.out.println(\"Method B\");\n",
    "    }\n",
    "}\n",
    "\n",
    "public class Main {\n",
    "    public static void main(String[] args) {\n",
    "        MyClass obj = new MyClass();\n",
    "        obj.methodA();\n",
    "        obj.methodB();\n",
    "    }\n",
    "}\n",
    "\n"
   ]
  },
  {
   "cell_type": "code",
   "execution_count": 10,
   "id": "a1b56133",
   "metadata": {},
   "outputs": [
    {
     "name": "stdout",
     "output_type": "stream",
     "text": [
      "Buddy is 3 years old.\n",
      "Buddy is barking!\n",
      "Max is 2 years old.\n",
      "Max is barking!\n"
     ]
    }
   ],
   "source": [
    "# 22). How to Define a Class in Python? What Is Self? Give An Example Of A Python Class.\n",
    "\n",
    "# To define a class in Python, you use the class keyword followed by the class name and a colon. \n",
    "# Inside the class body, you define attributes (data members) and methods (functions) that characterize the behavior of the class.\n",
    "# The self keyword is used within class methods to refer to the instance of the class itself. \n",
    "# It's a way to access and modify instance attributes and call other methods from within the class.\n",
    " \n",
    "class Dog:\n",
    "   \n",
    "    def __init__(self, name, age):  # Class constructor (initialization)\n",
    "        self.name = name\n",
    "        self.age = age\n",
    "    \n",
    "\n",
    "    def bark(self):  # Instance method\n",
    "        print(f\"{self.name} is barking!\")\n",
    "\n",
    "\n",
    "dog1 = Dog(\"Buddy\", 3)  # Creating instances of the Dog class\n",
    "dog2 = Dog(\"Max\", 2)\n",
    "\n",
    "\n",
    "print(f\"{dog1.name} is {dog1.age} years old.\") # Accessing attributes and calling methods\n",
    "dog1.bark()\n",
    "\n",
    "print(f\"{dog2.name} is {dog2.age} years old.\")\n",
    "dog2.bark()\n",
    "\n"
   ]
  },
  {
   "cell_type": "code",
   "execution_count": 12,
   "id": "492361da",
   "metadata": {},
   "outputs": [
    {
     "name": "stdout",
     "output_type": "stream",
     "text": [
      "120\n"
     ]
    }
   ],
   "source": [
    "# 23). Write a Python class named Rectangle constructed by a length and width and a method which will compute the area of a rectangle.\n",
    "\n",
    "class Rectangle():\n",
    "    def __init__(self, l, w):\n",
    "        self.length = l\n",
    "        self.width  = w\n",
    "\n",
    "    def rectangle_area(self):\n",
    "        return self.length*self.width\n",
    "\n",
    "newRectangle = Rectangle(12, 10)\n",
    "print(newRectangle.rectangle_area())\n",
    "\n"
   ]
  },
  {
   "cell_type": "code",
   "execution_count": 13,
   "id": "4d724f83",
   "metadata": {},
   "outputs": [
    {
     "name": "stdout",
     "output_type": "stream",
     "text": [
      "200.96\n",
      "50.24\n"
     ]
    }
   ],
   "source": [
    "# 24). Write a Python class named Circle constructed by a radius and two methods which will compute the area and the perimeter of a circle\n",
    "\n",
    "class Circle():\n",
    "    def __init__(self, r):\n",
    "        self.radius = r\n",
    "\n",
    "    def area(self):\n",
    "        return self.radius**2*3.14\n",
    "    \n",
    "    def perimeter(self):\n",
    "        return 2*self.radius*3.14\n",
    "\n",
    "NewCircle = Circle(8)\n",
    "print(NewCircle.area())\n",
    "print(NewCircle.perimeter())\n"
   ]
  },
  {
   "cell_type": "code",
   "execution_count": 14,
   "id": "123b65bb",
   "metadata": {},
   "outputs": [
    {
     "name": "stdout",
     "output_type": "stream",
     "text": [
      "Buddy says Woof!\n",
      "Minnie says Meow!\n"
     ]
    }
   ],
   "source": [
    "# 25). Explain Inheritance in Python with an example? What is init? Or What Is A Constructor In Python?\n",
    "\n",
    "# Inheritance in Python is a fundamental concept in object-oriented programming that allows you to create a new class that inherits properties and behaviors (methods and attributes) from an existing class. \n",
    "#The existing class is referred to as the \"base class\" or \"parent class,\" and the new class is called the \"derived class\" or \"child class.\" \n",
    "#Inheritance enables code reuse and promotes a hierarchical organization of classes.\n",
    "\n",
    "\n",
    "\n",
    "class Animal:\n",
    "    def __init__(self, name):\n",
    "        self.name = name\n",
    "\n",
    "    def speak(self):\n",
    "        pass  # This method will be overridden in child classes\n",
    "\n",
    "class Dog(Animal):\n",
    "    def speak(self):\n",
    "        return f\"{self.name} says Woof!\"\n",
    "\n",
    "class Cat(Animal):\n",
    "    def speak(self):\n",
    "        return f\"{self.name} says Meow!\"\n",
    "\n",
    "# Creating instances of child classes\n",
    "dog = Dog(\"Buddy\")\n",
    "cat = Cat(\"Minnie\")\n",
    "\n",
    "print(dog.speak())\n",
    "print(cat.speak()) \n",
    "\n",
    "\n",
    "\n",
    "\n",
    "\n",
    "\n",
    "\n",
    "\n"
   ]
  },
  {
   "cell_type": "code",
   "execution_count": null,
   "id": "5e77c283",
   "metadata": {},
   "outputs": [],
   "source": [
    "# The __init__ method, also known as the constructor, is a special method that is automatically called when an object of the class is created. \n",
    "#It initializes the attributes of the object. In the example above, the __init__ method in the Animal class takes a name parameter and sets it as an attribute of the object.\n",
    "\n",
    "\n",
    "# Child classes can choose to override the constructor if needed, but often they will still call the parent class's \n",
    "# constructor using super().__init__(...) to ensure proper initialization of inherited attributes."
   ]
  },
  {
   "cell_type": "code",
   "execution_count": 13,
   "id": "5c3a1e52",
   "metadata": {},
   "outputs": [
    {
     "name": "stdout",
     "output_type": "stream",
     "text": [
      "Toyota Skoda\n",
      "Ford Hundai\n"
     ]
    }
   ],
   "source": [
    "# 26). What is Instantiation in terms of OOP terminology?\n",
    "# Instantiation is a concept in object-oriented programming (OOP) that refers to the process of creating an instance of a class, also known as an object. \n",
    "#In other words, instantiation is the act of creating a concrete, individual object based on the blueprint or template provided by a class.\n",
    "\n",
    "# When you define a class in an object-oriented programming language like Python, you are essentially creating a blueprint that \n",
    "#describes the attributes (data members) and behaviors (methods) that the objects created from that class will have. However, these objects don't exist until you actually create instances of the class.\n",
    "\n",
    "\n",
    "class Car:\n",
    "    def __init__(self, make, model):\n",
    "        self.make = make\n",
    "        self.model = model\n",
    "\n",
    "# Instantiating objects of the Car class\n",
    "car1 = Car(\"Toyota\", \"Skoda\")\n",
    "car2 = Car(\"Ford\", \"Hundai\")\n",
    "\n",
    "print(car1.make, car1.model)\n",
    "print(car2.make, car2.model)\n",
    "\n"
   ]
  },
  {
   "cell_type": "code",
   "execution_count": 9,
   "id": "33d9fedb",
   "metadata": {},
   "outputs": [
    {
     "name": "stdout",
     "output_type": "stream",
     "text": [
      "True\n",
      "True\n",
      "True\n",
      "True\n",
      "False\n",
      "False\n"
     ]
    }
   ],
   "source": [
    "# 27). What is used to check whether an object o is an instance of class A?\n",
    "\n",
    "# isinstance() function to check whether an object is an instance of a specific class. The isinstance() function takes two arguments: the object you want to check and the class (or a tuple of classes) you want to check against. \n",
    "#It returns True if the object is an instance of the specified class (or any of the specified classes in case of a tuple), and False otherwise.\n",
    "\n",
    "class Vehicle:\n",
    "    pass\n",
    "\n",
    "class Car(Vehicle):\n",
    "    pass\n",
    "\n",
    "class Bicycle(Vehicle):\n",
    "    pass\n",
    "\n",
    "car = Car()\n",
    "bicycle = Bicycle()\n",
    "vehicle = Vehicle()\n",
    "\n",
    "print(isinstance(car, Car))        \n",
    "print(isinstance(car, Vehicle))    \n",
    "print(isinstance(bicycle, Bicycle))  \n",
    "print(isinstance(bicycle, Vehicle)) \n",
    "print(isinstance(vehicle, Car))     \n",
    "print(isinstance(vehicle, Bicycle))  \n"
   ]
  },
  {
   "cell_type": "code",
   "execution_count": null,
   "id": "b510f1ce",
   "metadata": {},
   "outputs": [],
   "source": [
    "# 28). What relationship is appropriate for Course and Faculty?\n",
    "\n",
    "# The relationship between \"Course\" and \"Faculty\" typically involves the teaching and management of courses within an educational institution such as a school, college, or university. \n",
    "#The appropriate relationship can vary depending on the context and the structure of the educational institution, but here are a few common relationships:\n",
    "\n",
    "# 1). Teaching Relationship: In this relationship, a \"Course\" is taught by one or more \"Faculty\" members. A faculty member might be responsible for delivering lectures, \n",
    "#conducting discussions, grading assignments, and providing guidance to students enrolled in the course.\n",
    "\n",
    "# 2). Course Coordination Relationship: This relationship involves a faculty member who serves as the coordinator or lead for a specific course.\n",
    "\n",
    "# 3).Advisory Relationship: Faculty members can also act as academic advisors to students. \n",
    "# They provide guidance and support in terms of course selection, academic planning, and career advice.\n",
    "\n",
    "# 4). Research Supervision Relationship: In universities and institutions with a strong research component, faculty members might supervise students in their research projects, theses, or dissertations. \n",
    "#This relationship involves guiding students through the research process and helping them develop their academic and research skills.\n",
    "\n",
    "# 5). Administrative Relationship: Faculty members can also have administrative roles within the institution. \n",
    "#They might serve as department heads, deans, program directors, or other leadership positions that involve decision-making about course offerings, \n",
    "#curriculum development, and overall academic direction.\n"
   ]
  },
  {
   "cell_type": "code",
   "execution_count": null,
   "id": "0f1371b1",
   "metadata": {},
   "outputs": [],
   "source": [
    "# 29).What relationship is appropriate for Student and Person?\n",
    "# The relationship between \"Student\" and \"Person\" is a fundamental one, \n",
    "# but it's important to clarify the context in which you're asking about this relationship.\n",
    "\n",
    "# 1). Identity Relationship: A student is a type of person. In this relationship, a student is a subset of the broader category of \"Person.\" All students are individuals (persons), \n",
    "#but not all individuals are students. This is a basic relationship that defines the role and identity of a person as a student.\n",
    "\n",
    "# 2). Role-Based Relationship: A person can take on different roles in different contexts. In this case, a person can have the role of a student within an educational institution. \n",
    "# This relationship highlights the person's specific role and responsibilities as a student.\n",
    "\n",
    "# 3). Educational Relationship: The relationship between \"Student\" and \"Person\" emphasizes the educational context. \n",
    "#A person becomes a student when they are actively engaged in learning within an educational institution. \n",
    "#This relationship is tied to the person's pursuit of education.\n",
    "\n",
    "# 4).Personal Development Relationship: This relationship recognizes that being a student is a phase of personal development and growth. \n",
    "#It's a specific role that contributes to a person's intellectual, social, and professional development.\n",
    "\n",
    "# 5). Dynamic Relationship: As a person evolves, their role as a student might change. \n",
    "# This relationship captures the dynamic nature of how a person's roles can shift over time."
   ]
  }
 ],
 "metadata": {
  "kernelspec": {
   "display_name": "Python 3 (ipykernel)",
   "language": "python",
   "name": "python3"
  },
  "language_info": {
   "codemirror_mode": {
    "name": "ipython",
    "version": 3
   },
   "file_extension": ".py",
   "mimetype": "text/x-python",
   "name": "python",
   "nbconvert_exporter": "python",
   "pygments_lexer": "ipython3",
   "version": "3.10.9"
  }
 },
 "nbformat": 4,
 "nbformat_minor": 5
}
